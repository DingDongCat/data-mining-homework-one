{
 "cells": [
  {
   "cell_type": "code",
   "execution_count": 1,
   "metadata": {},
   "outputs": [],
   "source": [
    "import pandas as pd\n",
    "import matplotlib.pyplot as plt"
   ]
  },
  {
   "cell_type": "markdown",
   "metadata": {},
   "source": [
    "### 读取Alzheimer Disease and Healthy Aging Data In US.csv文件"
   ]
  },
  {
   "cell_type": "code",
   "execution_count": 2,
   "metadata": {},
   "outputs": [
    {
     "name": "stderr",
     "output_type": "stream",
     "text": [
      "D:\\DevelopTools\\Anaconda\\lib\\site-packages\\IPython\\core\\interactiveshell.py:3444: DtypeWarning: Columns (13,14) have mixed types.Specify dtype option on import or set low_memory=False.\n",
      "  exec(code_obj, self.user_global_ns, self.user_ns)\n"
     ]
    }
   ],
   "source": [
    "data = pd.read_csv('data/Alzheimer Disease and Healthy Aging Data In US.csv')"
   ]
  },
  {
   "cell_type": "code",
   "execution_count": 3,
   "metadata": {},
   "outputs": [
    {
     "name": "stdout",
     "output_type": "stream",
     "text": [
      "<class 'pandas.core.frame.DataFrame'>\n",
      "RangeIndex: 214462 entries, 0 to 214461\n",
      "Data columns (total 29 columns):\n",
      " #   Column                     Non-Null Count   Dtype  \n",
      "---  ------                     --------------   -----  \n",
      " 0   YearStart                  214462 non-null  int64  \n",
      " 1   YearEnd                    214462 non-null  int64  \n",
      " 2   LocationAbbr               214462 non-null  object \n",
      " 3   LocationDesc               214462 non-null  object \n",
      " 4   Datasource                 214462 non-null  object \n",
      " 5   Class                      214462 non-null  object \n",
      " 6   Topic                      214462 non-null  object \n",
      " 7   Question                   214462 non-null  object \n",
      " 8   Data_Value_Unit            214462 non-null  object \n",
      " 9   DataValueTypeID            214462 non-null  object \n",
      " 10  Data_Value_Type            214462 non-null  object \n",
      " 11  Data_Value                 144629 non-null  float64\n",
      " 12  Data_Value_Alt             144629 non-null  float64\n",
      " 13  Low_Confidence_Limit       144472 non-null  object \n",
      " 14  High_Confidence_Limit      144472 non-null  object \n",
      " 15  Sample_Size                0 non-null       float64\n",
      " 16  StratificationCategory1    214462 non-null  object \n",
      " 17  Stratification1            214462 non-null  object \n",
      " 18  StratificationCategory2    186793 non-null  object \n",
      " 19  Stratification2            186793 non-null  object \n",
      " 20  Geolocation                191413 non-null  object \n",
      " 21  ClassID                    214462 non-null  object \n",
      " 22  TopicID                    214462 non-null  object \n",
      " 23  QuestionID                 214462 non-null  object \n",
      " 24  LocationID                 214462 non-null  int64  \n",
      " 25  StratificationCategoryID1  214462 non-null  object \n",
      " 26  StratificationID1          214462 non-null  object \n",
      " 27  StratificationCategoryID2  214462 non-null  object \n",
      " 28  StratificationID2          214462 non-null  object \n",
      "dtypes: float64(3), int64(3), object(23)\n",
      "memory usage: 47.5+ MB\n"
     ]
    }
   ],
   "source": [
    "data.info()"
   ]
  },
  {
   "cell_type": "markdown",
   "metadata": {},
   "source": [
    "### 标称属性，给出每个可能取值的频数"
   ]
  },
  {
   "cell_type": "code",
   "execution_count": 4,
   "metadata": {},
   "outputs": [
    {
     "name": "stdout",
     "output_type": "stream",
     "text": [
      "2015    45980\n",
      "2020    36006\n",
      "2019    34354\n",
      "2016    34145\n",
      "2017    33429\n",
      "2018    30548\n",
      "Name: YearStart, dtype: int64\n",
      "2020    46966\n",
      "2015    35020\n",
      "2019    34354\n",
      "2016    34145\n",
      "2017    33429\n",
      "2018    30548\n",
      "Name: YearEnd, dtype: int64\n",
      "US      4644\n",
      "WEST    4638\n",
      "NRE     4614\n",
      "MDW     4611\n",
      "OR      4565\n",
      "NY      4557\n",
      "SOU     4542\n",
      "UT      4222\n",
      "OH      3955\n",
      "GA      3951\n",
      "MD      3919\n",
      "HI      3907\n",
      "TN      3879\n",
      "MI      3796\n",
      "VA      3758\n",
      "FL      3753\n",
      "ME      3733\n",
      "TX      3699\n",
      "NV      3696\n",
      "DC      3684\n",
      "WV      3682\n",
      "MS      3677\n",
      "PA      3648\n",
      "NM      3635\n",
      "AL      3633\n",
      "KY      3623\n",
      "AK      3611\n",
      "SC      3592\n",
      "NJ      3589\n",
      "AZ      3582\n",
      "MO      3573\n",
      "IL      3571\n",
      "IN      3570\n",
      "WI      3569\n",
      "LA      3563\n",
      "MN      3555\n",
      "NE      3546\n",
      "CT      3543\n",
      "RI      3534\n",
      "OK      3526\n",
      "SD      3526\n",
      "ND      3514\n",
      "KS      3510\n",
      "ID      3507\n",
      "IA      3501\n",
      "AR      3498\n",
      "WY      3494\n",
      "CA      3447\n",
      "CO      3390\n",
      "NC      3349\n",
      "WA      3348\n",
      "MT      3348\n",
      "DE      3346\n",
      "NH      3284\n",
      "VT      3278\n",
      "MA      3174\n",
      "PR      2797\n",
      "GU      2703\n",
      "VI       503\n",
      "Name: LocationAbbr, dtype: int64\n",
      "United States, DC & Territories    4644\n",
      "West                               4638\n",
      "Northeast                          4614\n",
      "Midwest                            4611\n",
      "Oregon                             4565\n",
      "New York                           4557\n",
      "South                              4542\n",
      "Utah                               4222\n",
      "Ohio                               3955\n",
      "Georgia                            3951\n",
      "Maryland                           3919\n",
      "Hawaii                             3907\n",
      "Tennessee                          3879\n",
      "Michigan                           3796\n",
      "Virginia                           3758\n",
      "Florida                            3753\n",
      "Maine                              3733\n",
      "Texas                              3699\n",
      "Nevada                             3696\n",
      "District of Columbia               3684\n",
      "West Virginia                      3682\n",
      "Mississippi                        3677\n",
      "Pennsylvania                       3648\n",
      "New Mexico                         3635\n",
      "Alabama                            3633\n",
      "Kentucky                           3623\n",
      "Alaska                             3611\n",
      "South Carolina                     3592\n",
      "New Jersey                         3589\n",
      "Arizona                            3582\n",
      "Missouri                           3573\n",
      "Illinois                           3571\n",
      "Indiana                            3570\n",
      "Wisconsin                          3569\n",
      "Louisiana                          3563\n",
      "Minnesota                          3555\n",
      "Nebraska                           3546\n",
      "Connecticut                        3543\n",
      "Rhode Island                       3534\n",
      "Oklahoma                           3526\n",
      "South Dakota                       3526\n",
      "North Dakota                       3514\n",
      "Kansas                             3510\n",
      "Idaho                              3507\n",
      "Iowa                               3501\n",
      "Arkansas                           3498\n",
      "Wyoming                            3494\n",
      "California                         3447\n",
      "Colorado                           3390\n",
      "North Carolina                     3349\n",
      "Washington                         3348\n",
      "Montana                            3348\n",
      "Delaware                           3346\n",
      "New Hampshire                      3284\n",
      "Vermont                            3278\n",
      "Massachusetts                      3174\n",
      "Puerto Rico                        2797\n",
      "Guam                               2703\n",
      "Virgin Islands                      503\n",
      "Name: LocationDesc, dtype: int64\n",
      "BRFSS    214462\n",
      "Name: Datasource, dtype: int64\n",
      "Overall Health                         71694\n",
      "Screenings and Vaccines                46867\n",
      "Nutrition/Physical Activity/Obesity    24851\n",
      "Cognitive Decline                      19180\n",
      "Caregiving                             18671\n",
      "Mental Health                          16600\n",
      "Smoking and Alcohol Use                16599\n",
      "Name: Class, dtype: int64\n",
      "Obesity                                                                                                   8300\n",
      "Influenza vaccine within past year                                                                        8300\n",
      "Physically unhealthy days (mean number of days)                                                           8300\n",
      "Frequent mental distress                                                                                  8300\n",
      "Current smoking                                                                                           8300\n",
      "Lifetime diagnosis of depression                                                                          8300\n",
      "No leisure-time physical activity within past month                                                       8300\n",
      "Self-rated health (fair to poor health)                                                                   8299\n",
      "Self-rated health (good to excellent health)                                                              8299\n",
      "Binge drinking within past 30 days                                                                        8299\n",
      "Ever had pneumococcal vaccine                                                                             8268\n",
      "Recent activity limitations in past month                                                                 8233\n",
      "Disability status, including sensory or mobility limitations                                              6917\n",
      "Arthritis among older adults                                                                              5511\n",
      "Fair or poor health among older adults with arthritis                                                     5447\n",
      "Subjective cognitive decline or memory loss among older adults                                            5088\n",
      "Diabetes screening within past 3 years                                                                    4808\n",
      "Talked with health care professional about subjective cognitive decline or memory loss                    4700\n",
      "Need assistance with day-to-day activities because of subjective cognitive decline or memory loss         4696\n",
      "Functional difficulties associated with subjective cognitive decline or memory loss among older adults    4696\n",
      "Fall with injury within last year                                                                         4173\n",
      "Colorectal cancer screening                                                                               4173\n",
      "Oral health:  tooth retention                                                                             4172\n",
      "Prevalence of sufficient sleep                                                                            4171\n",
      "Eating 3 or more vegetables daily                                                                         4127\n",
      "High blood pressure ever                                                                                  4127\n",
      "Cholesterol checked in past 5 years                                                                       4127\n",
      "Eating 2 or more fruits daily                                                                             4124\n",
      "Taking medication for high blood pressure                                                                 4108\n",
      "Severe joint pain among older adults with arthritis                                                       4064\n",
      "Provide care for a friend or family member in past month                                                  3848\n",
      "Expect to provide care for someone in the next two years                                                  3797\n",
      "Provide care for someone with cognitive impairment within the past month                                  3682\n",
      "Duration of caregiving among older adults                                                                 3681\n",
      "Intensity of caregiving among older adults                                                                3663\n",
      "Up-to-date with recommended vaccines and screenings - Women                                               3280\n",
      "Up-to-date with recommended vaccines and screenings - Men                                                 3271\n",
      "Mammogram within past 2 years                                                                             3271\n",
      "Pap test within past 3 years                                                                              3242\n",
      "Name: Topic, dtype: int64\n",
      "Percentage of older adults who are currently obese, with a body mass index (BMI) of 30 or more                                                                               8300\n",
      "Percentage of older adults who reported influenza vaccine within the past year                                                                                               8300\n",
      "Physically unhealthy days (mean number of days in past month)                                                                                                                8300\n",
      "Percentage of older adults who are experiencing frequent mental distress                                                                                                     8300\n",
      "Percentage of older adults who have smoked at least 100 cigarettes in their entire life and still smoke every day or some days                                               8300\n",
      "Percentage of older adults with a lifetime diagnosis of depression                                                                                                           8300\n",
      "Percentage of older adults who have not had any leisure time physical activity in the past month                                                                             8300\n",
      "Percentage of older adults who self-reported that their health is \"fair\" or \"poor\"                                                                                           8299\n",
      "Percentage of older adults who self-reported that their health is \"good\", \"very good\", or \"excellent\"                                                                        8299\n",
      "Percentage of older adults who reported binge drinking within the past 30 days                                                                                               8299\n",
      "Percentage of at risk adults (have diabetes, asthma, cardiovascular disease or currently smoke) who ever had a pneumococcal vaccine                                          8268\n",
      "Mean number of days with activity limitations in the past month                                                                                                              8233\n",
      "Percentage of older adults who report having a disability (includes limitations related to sensory or mobility impairments or a physical, mental, or emotional condition)    6917\n",
      "Percentage of older adults ever told they have arthritis                                                                                                                     5511\n",
      "Fair or poor health among older adults with doctor-diagnosed arthritis                                                                                                       5447\n",
      "Percentage of older adults who reported subjective cognitive decline or memory loss that is happening more often or is getting worse in the preceding 12 months              5088\n",
      "Percentage of older adults without diabetes who reported a blood sugar or diabetes test within 3 years                                                                       4808\n",
      "Percentage of older adults with subjective cognitive decline or memory loss who reported talking with a health care professional about it                                    4700\n",
      "Percentage of older adults who reported that as a result of subjective cognitive decline or memory loss that they need assistance with day-to-day activities                 4696\n",
      "Percentage of older adults who reported subjective cognitive decline or memory loss that interferes with their ability to engage in social activities or household chores    4696\n",
      "Percentage of older adults who have fallen and sustained an injury within last year                                                                                          4173\n",
      "Percentage of older adults who had either a home blood stool test within the past year or a sigmoidoscopy or colonoscopy within the past 10 years                            4173\n",
      "Percentage of older adults who report having lost 5 or fewer teeth due to decay or gum disease                                                                               4172\n",
      "Percentage of older adults getting sufficient sleep (>6 hours)                                                                                                               4171\n",
      "Percentage of older adults who are eating 3 or more vegetables daily                                                                                                         4127\n",
      "Percentage of older adults who have ever been told by a health professional that they have high blood pressure                                                               4127\n",
      "Percentage of older adults who had a cholesterol screening within the past 5 years                                                                                           4127\n",
      "Percentage of older adults who are eating 2 or more fruits daily                                                                                                             4124\n",
      "Percentage of older adults who have been told they have high blood pressure who report currently taking medication for their high blood pressure                             4108\n",
      "Severe joint pain due to arthritis among older adults with doctor-diagnosed arthritis                                                                                        4064\n",
      "Percentage of older adults who provided care for a friend or family member within the past month                                                                             3848\n",
      "Percentage of older adults currently not providing care who expect to provide care for someone with health problems in the next two years                                    3797\n",
      "Percentage of older adults who provided care for someone with dementia or other cognitive impairment within the past month                                                   3682\n",
      "Percentage of older adults who provided care to a friend or family member for six months or more                                                                             3681\n",
      "Average of 20 or more hours of care per week provided to a friend or family member                                                                                           3663\n",
      "Percentage of older adult women who are up to date with select clinical preventive services                                                                                  3280\n",
      "Percentage of older adult men who are up to date with select clinical preventive services                                                                                    3271\n",
      "Percentage of older adult women who have received a mammogram within the past 2 years                                                                                        3271\n",
      "Percentage of older adult women with an intact cervix who had a Pap test within the past 3 years                                                                             3242\n",
      "Name: Question, dtype: int64\n",
      "%         197929\n",
      "Number     16533\n",
      "Name: Data_Value_Unit, dtype: int64\n",
      "PRCTG    197929\n",
      "MEAN      16533\n",
      "Name: DataValueTypeID, dtype: int64\n",
      "Percentage    197929\n",
      "Mean           16533\n",
      "Name: Data_Value_Type, dtype: int64\n",
      "6.0     473\n",
      "6.3     467\n",
      "6.1     459\n",
      "5.8     458\n",
      "5.2     456\n",
      "       ... \n",
      "99.7      2\n",
      "0.5       1\n",
      "0.6       1\n",
      "0.3       1\n",
      "0.2       1\n",
      "Name: Data_Value, Length: 999, dtype: int64\n",
      "6.0     473\n",
      "6.3     467\n",
      "6.1     459\n",
      "5.8     458\n",
      "5.2     456\n",
      "       ... \n",
      "99.7      2\n",
      "0.5       1\n",
      "0.6       1\n",
      "0.3       1\n",
      "0.2       1\n",
      "Name: Data_Value_Alt, Length: 999, dtype: int64\n",
      "5.4     350\n",
      "5.1     318\n",
      "4.8     314\n",
      "5.3     313\n",
      "5       305\n",
      "       ... \n",
      "96.8      1\n",
      "98.4      1\n",
      "0.9       1\n",
      "97.8      1\n",
      "99.4      1\n",
      "Name: Low_Confidence_Limit, Length: 1967, dtype: int64\n",
      "6.5    216\n",
      "5.8    193\n",
      "6.8    192\n",
      "6.7    189\n",
      "7.5    186\n",
      "      ... \n",
      "1.7      1\n",
      "2.8      1\n",
      "2.8      1\n",
      "1.5      1\n",
      "1.6      1\n",
      "Name: High_Confidence_Limit, Length: 1966, dtype: int64\n",
      "Series([], Name: Sample_Size, dtype: int64)\n",
      "Age Group    214462\n",
      "Name: StratificationCategory1, dtype: int64\n",
      "Overall              71919\n",
      "50-64 years          71528\n",
      "65 years or older    71015\n",
      "Name: Stratification1, dtype: int64\n",
      "Race/Ethnicity    134959\n",
      "Gender             51834\n",
      "Name: StratificationCategory2, dtype: int64\n",
      "White, non-Hispanic         27633\n",
      "Hispanic                    27525\n",
      "Black, non-Hispanic         26968\n",
      "Native Am/Alaskan Native    26571\n",
      "Asian/Pacific Islander      26262\n",
      "Female                      26091\n",
      "Male                        25743\n",
      "Name: Stratification2, dtype: int64\n",
      "POINT (-120.1550313 44.56744942)    4565\n",
      "POINT (-75.54397043 42.82700103)    4557\n",
      "POINT (-111.5871306 39.36070017)    4222\n",
      "POINT (-82.40426006 40.06021014)    3955\n",
      "POINT (-83.62758035 32.83968109)    3951\n",
      "POINT (-76.60926011 39.29058096)    3919\n",
      "POINT (-157.8577494 21.30485044)    3907\n",
      "POINT (-85.77449091 35.68094058)    3879\n",
      "POINT (-84.71439027 44.66131954)    3796\n",
      "POINT (-78.45789046 37.54268067)    3758\n",
      "POINT (-81.92896054 28.93204038)    3753\n",
      "POINT (-68.98503134 45.25422889)    3733\n",
      "POINT (-99.42677021 31.82724041)    3699\n",
      "POINT (-117.0718406 39.49324039)    3696\n",
      "POINT (-77.036871 38.907192)        3684\n",
      "POINT (-80.71264013 38.6655102)     3682\n",
      "POINT (-89.53803082 32.7455101)     3677\n",
      "POINT (-77.86070029 40.79373015)    3648\n",
      "POINT (-106.240581 34.52088095)     3635\n",
      "POINT (-86.63186076 32.84057112)    3633\n",
      "POINT (-84.77497105 37.64597027)    3623\n",
      "POINT (-147.722059 64.84507996)     3611\n",
      "POINT (-81.04537121 33.9988213)     3592\n",
      "POINT (-74.27369129 40.13057005)    3589\n",
      "POINT (-111.7638113 34.86597028)    3582\n",
      "POINT (-92.56630005 38.63579078)    3573\n",
      "POINT (-88.99771018 40.48501028)    3571\n",
      "POINT (-86.14996019 39.76691045)    3570\n",
      "POINT (-89.81637074 44.39319117)    3569\n",
      "POINT (-92.44568007 31.31266064)    3563\n",
      "POINT (-94.7942005 46.35564874)     3555\n",
      "POINT (-99.36572062 41.64104099)    3546\n",
      "POINT (-72.64984095 41.56266102)    3543\n",
      "POINT (-71.52247031 41.70828019)    3534\n",
      "POINT (-97.52107021 35.47203136)    3526\n",
      "POINT (-100.3735306 44.35313005)    3526\n",
      "POINT (-100.118421 47.47531978)     3514\n",
      "POINT (-98.20078123 38.3477403)     3510\n",
      "POINT (-114.36373 43.68263001)      3507\n",
      "POINT (-93.81649056 42.46940091)    3501\n",
      "POINT (-92.27449074 34.74865012)    3498\n",
      "POINT (-108.1098304 43.23554134)    3494\n",
      "POINT (-120.9999995 37.63864012)    3447\n",
      "POINT (-106.1336109 38.84384076)    3390\n",
      "POINT (-79.15925046 35.46622098)    3349\n",
      "POINT (-109.4244206 47.06652897)    3348\n",
      "POINT (-120.4700108 47.52227863)    3348\n",
      "POINT (-75.57774117 39.00883067)    3346\n",
      "POINT (-71.50036092 43.65595011)    3284\n",
      "POINT (-72.51764079 43.62538124)    3278\n",
      "POINT (-72.08269067 42.27687047)    3174\n",
      "POINT (-66.590149 18.220833)        2797\n",
      "POINT (144.793731 13.444304)        2703\n",
      "POINT (-64.896335 18.335765)         503\n",
      "Name: Geolocation, dtype: int64\n"
     ]
    },
    {
     "name": "stdout",
     "output_type": "stream",
     "text": [
      "C01    71694\n",
      "C03    46867\n",
      "C02    24851\n",
      "C06    19180\n",
      "C07    18671\n",
      "C05    16600\n",
      "C04    16599\n",
      "Name: ClassID, dtype: int64\n",
      "TNC04    8300\n",
      "TSC08    8300\n",
      "TOC01    8300\n",
      "TMC01    8300\n",
      "TAC01    8300\n",
      "TMC03    8300\n",
      "TNC03    8300\n",
      "TOC07    8299\n",
      "TOC08    8299\n",
      "TAC03    8299\n",
      "TSC09    8268\n",
      "TOC03    8233\n",
      "TOC10    6917\n",
      "TOC11    5511\n",
      "TOC13    5447\n",
      "TCC01    5088\n",
      "TSC04    4808\n",
      "TCC04    4700\n",
      "TCC03    4696\n",
      "TCC02    4696\n",
      "TOC06    4173\n",
      "TSC02    4173\n",
      "TOC05    4172\n",
      "TOC09    4171\n",
      "TNC02    4127\n",
      "TSC07    4127\n",
      "TSC06    4127\n",
      "TNC01    4124\n",
      "TOC04    4108\n",
      "TOC12    4064\n",
      "TGC01    3848\n",
      "TGC02    3797\n",
      "TGC05    3682\n",
      "TGC03    3681\n",
      "TGC04    3663\n",
      "TSC11    3280\n",
      "TSC10    3271\n",
      "TSC01    3271\n",
      "TSC03    3242\n",
      "Name: TopicID, dtype: int64\n",
      "Q13    8300\n",
      "Q18    8300\n",
      "Q08    8300\n",
      "Q03    8300\n",
      "Q17    8300\n",
      "Q27    8300\n",
      "Q16    8300\n",
      "Q32    8299\n",
      "Q33    8299\n",
      "Q21    8299\n",
      "Q09    8268\n",
      "Q35    8233\n",
      "Q46    6917\n",
      "Q43    5511\n",
      "Q45    5447\n",
      "Q30    5088\n",
      "Q19    4808\n",
      "Q42    4700\n",
      "Q41    4696\n",
      "Q31    4696\n",
      "Q05    4173\n",
      "Q15    4173\n",
      "Q07    4172\n",
      "Q34    4171\n",
      "Q02    4127\n",
      "Q22    4127\n",
      "Q14    4127\n",
      "Q01    4124\n",
      "Q04    4108\n",
      "Q44    4064\n",
      "Q36    3848\n",
      "Q37    3797\n",
      "Q40    3682\n",
      "Q38    3681\n",
      "Q39    3663\n",
      "Q11    3280\n",
      "Q10    3271\n",
      "Q12    3271\n",
      "Q20    3242\n",
      "Name: QuestionID, dtype: int64\n",
      "59      4644\n",
      "9004    4638\n",
      "9001    4614\n",
      "9002    4611\n",
      "41      4565\n",
      "36      4557\n",
      "9003    4542\n",
      "49      4222\n",
      "39      3955\n",
      "13      3951\n",
      "24      3919\n",
      "15      3907\n",
      "47      3879\n",
      "26      3796\n",
      "51      3758\n",
      "12      3753\n",
      "23      3733\n",
      "48      3699\n",
      "32      3696\n",
      "11      3684\n",
      "54      3682\n",
      "28      3677\n",
      "42      3648\n",
      "35      3635\n",
      "1       3633\n",
      "21      3623\n",
      "2       3611\n",
      "45      3592\n",
      "34      3589\n",
      "4       3582\n",
      "29      3573\n",
      "17      3571\n",
      "18      3570\n",
      "55      3569\n",
      "22      3563\n",
      "27      3555\n",
      "31      3546\n",
      "9       3543\n",
      "44      3534\n",
      "40      3526\n",
      "46      3526\n",
      "38      3514\n",
      "20      3510\n",
      "16      3507\n",
      "19      3501\n",
      "5       3498\n",
      "56      3494\n",
      "6       3447\n",
      "8       3390\n",
      "37      3349\n",
      "53      3348\n",
      "30      3348\n",
      "10      3346\n",
      "33      3284\n",
      "50      3278\n",
      "25      3174\n",
      "72      2797\n",
      "66      2703\n",
      "78       503\n",
      "Name: LocationID, dtype: int64\n",
      "AGE    214462\n",
      "Name: StratificationCategoryID1, dtype: int64\n",
      "AGE_OVERALL    71919\n",
      "5064           71528\n",
      "65PLUS         71015\n",
      "Name: StratificationID1, dtype: int64\n",
      "RACE       134959\n",
      "GENDER      51834\n",
      "OVERALL     27669\n",
      "Name: StratificationCategoryID2, dtype: int64\n",
      "OVERALL    27669\n",
      "WHT        27633\n",
      "HIS        27525\n",
      "BLK        26968\n",
      "NAA        26571\n",
      "ASN        26262\n",
      "FEMALE     26091\n",
      "MALE       25743\n",
      "Name: StratificationID2, dtype: int64\n"
     ]
    }
   ],
   "source": [
    "for name, value in data.items():\n",
    "    print(value.value_counts())"
   ]
  },
  {
   "cell_type": "markdown",
   "metadata": {},
   "source": [
    "### 数值属性，给出5数概括及缺失值的个数"
   ]
  },
  {
   "cell_type": "markdown",
   "metadata": {},
   "source": [
    "5数概括"
   ]
  },
  {
   "cell_type": "code",
   "execution_count": 5,
   "metadata": {},
   "outputs": [
    {
     "data": {
      "text/html": [
       "<div>\n",
       "<style scoped>\n",
       "    .dataframe tbody tr th:only-of-type {\n",
       "        vertical-align: middle;\n",
       "    }\n",
       "\n",
       "    .dataframe tbody tr th {\n",
       "        vertical-align: top;\n",
       "    }\n",
       "\n",
       "    .dataframe thead th {\n",
       "        text-align: right;\n",
       "    }\n",
       "</style>\n",
       "<table border=\"1\" class=\"dataframe\">\n",
       "  <thead>\n",
       "    <tr style=\"text-align: right;\">\n",
       "      <th></th>\n",
       "      <th>YearStart</th>\n",
       "      <th>YearEnd</th>\n",
       "      <th>Data_Value</th>\n",
       "      <th>Data_Value_Alt</th>\n",
       "      <th>Sample_Size</th>\n",
       "      <th>LocationID</th>\n",
       "    </tr>\n",
       "  </thead>\n",
       "  <tbody>\n",
       "    <tr>\n",
       "      <th>count</th>\n",
       "      <td>214462.000000</td>\n",
       "      <td>214462.000000</td>\n",
       "      <td>144629.000000</td>\n",
       "      <td>144629.000000</td>\n",
       "      <td>0.0</td>\n",
       "      <td>214462.000000</td>\n",
       "    </tr>\n",
       "    <tr>\n",
       "      <th>mean</th>\n",
       "      <td>2017.378477</td>\n",
       "      <td>2017.634000</td>\n",
       "      <td>37.341956</td>\n",
       "      <td>37.341956</td>\n",
       "      <td>NaN</td>\n",
       "      <td>800.987821</td>\n",
       "    </tr>\n",
       "    <tr>\n",
       "      <th>std</th>\n",
       "      <td>1.779822</td>\n",
       "      <td>1.778926</td>\n",
       "      <td>25.183017</td>\n",
       "      <td>25.183017</td>\n",
       "      <td>NaN</td>\n",
       "      <td>2512.934094</td>\n",
       "    </tr>\n",
       "    <tr>\n",
       "      <th>min</th>\n",
       "      <td>2015.000000</td>\n",
       "      <td>2015.000000</td>\n",
       "      <td>0.000000</td>\n",
       "      <td>0.000000</td>\n",
       "      <td>NaN</td>\n",
       "      <td>1.000000</td>\n",
       "    </tr>\n",
       "    <tr>\n",
       "      <th>25%</th>\n",
       "      <td>2016.000000</td>\n",
       "      <td>2016.000000</td>\n",
       "      <td>15.300000</td>\n",
       "      <td>15.300000</td>\n",
       "      <td>NaN</td>\n",
       "      <td>18.000000</td>\n",
       "    </tr>\n",
       "    <tr>\n",
       "      <th>50%</th>\n",
       "      <td>2017.000000</td>\n",
       "      <td>2018.000000</td>\n",
       "      <td>32.500000</td>\n",
       "      <td>32.500000</td>\n",
       "      <td>NaN</td>\n",
       "      <td>33.000000</td>\n",
       "    </tr>\n",
       "    <tr>\n",
       "      <th>75%</th>\n",
       "      <td>2019.000000</td>\n",
       "      <td>2019.000000</td>\n",
       "      <td>56.800000</td>\n",
       "      <td>56.800000</td>\n",
       "      <td>NaN</td>\n",
       "      <td>49.000000</td>\n",
       "    </tr>\n",
       "    <tr>\n",
       "      <th>max</th>\n",
       "      <td>2020.000000</td>\n",
       "      <td>2020.000000</td>\n",
       "      <td>100.000000</td>\n",
       "      <td>100.000000</td>\n",
       "      <td>NaN</td>\n",
       "      <td>9004.000000</td>\n",
       "    </tr>\n",
       "  </tbody>\n",
       "</table>\n",
       "</div>"
      ],
      "text/plain": [
       "           YearStart        YearEnd     Data_Value  Data_Value_Alt  \\\n",
       "count  214462.000000  214462.000000  144629.000000   144629.000000   \n",
       "mean     2017.378477    2017.634000      37.341956       37.341956   \n",
       "std         1.779822       1.778926      25.183017       25.183017   \n",
       "min      2015.000000    2015.000000       0.000000        0.000000   \n",
       "25%      2016.000000    2016.000000      15.300000       15.300000   \n",
       "50%      2017.000000    2018.000000      32.500000       32.500000   \n",
       "75%      2019.000000    2019.000000      56.800000       56.800000   \n",
       "max      2020.000000    2020.000000     100.000000      100.000000   \n",
       "\n",
       "       Sample_Size     LocationID  \n",
       "count          0.0  214462.000000  \n",
       "mean           NaN     800.987821  \n",
       "std            NaN    2512.934094  \n",
       "min            NaN       1.000000  \n",
       "25%            NaN      18.000000  \n",
       "50%            NaN      33.000000  \n",
       "75%            NaN      49.000000  \n",
       "max            NaN    9004.000000  "
      ]
     },
     "execution_count": 5,
     "metadata": {},
     "output_type": "execute_result"
    }
   ],
   "source": [
    "data.describe()"
   ]
  },
  {
   "cell_type": "markdown",
   "metadata": {},
   "source": [
    "缺失值的个数"
   ]
  },
  {
   "cell_type": "code",
   "execution_count": 6,
   "metadata": {},
   "outputs": [
    {
     "name": "stdout",
     "output_type": "stream",
     "text": [
      "列名 缺失值的个数\n",
      "YearStart 0\n",
      "YearEnd 0\n",
      "LocationAbbr 0\n",
      "LocationDesc 0\n",
      "Datasource 0\n",
      "Class 0\n",
      "Topic 0\n",
      "Question 0\n",
      "Data_Value_Unit 0\n",
      "DataValueTypeID 0\n",
      "Data_Value_Type 0\n",
      "Data_Value 69833\n",
      "Data_Value_Alt 69833\n",
      "Low_Confidence_Limit 69990\n",
      "High_Confidence_Limit 69990\n",
      "Sample_Size 214462\n",
      "StratificationCategory1 0\n",
      "Stratification1 0\n",
      "StratificationCategory2 27669\n",
      "Stratification2 27669\n",
      "Geolocation 23049\n",
      "ClassID 0\n",
      "TopicID 0\n",
      "QuestionID 0\n",
      "LocationID 0\n",
      "StratificationCategoryID1 0\n",
      "StratificationID1 0\n",
      "StratificationCategoryID2 0\n",
      "StratificationID2 0\n"
     ]
    }
   ],
   "source": [
    "print('列名', '缺失值的个数')\n",
    "for name, column in data.iteritems():\n",
    "    print(name, column.isnull().sum())"
   ]
  },
  {
   "cell_type": "markdown",
   "metadata": {},
   "source": [
    "### 数据可视化"
   ]
  },
  {
   "cell_type": "code",
   "execution_count": 7,
   "metadata": {},
   "outputs": [
    {
     "data": {
      "image/png": "[encoded data removed]",
      "text/plain": [
       "<Figure size 432x288 with 1 Axes>"
      ]
     },
     "metadata": {
      "needs_background": "light"
     },
     "output_type": "display_data"
    }
   ],
   "source": [
    "data.boxplot(column='YearStart')\n",
    "plt.show()"
   ]
  },
  {
   "cell_type": "code",
   "execution_count": 8,
   "metadata": {},
   "outputs": [
    {
     "data": {
      "image/png": "[encoded data removed]",
      "text/plain": [
       "<Figure size 432x288 with 1 Axes>"
      ]
     },
     "metadata": {
      "needs_background": "light"
     },
     "output_type": "display_data"
    }
   ],
   "source": [
    "data.boxplot(column='YearEnd')\n",
    "plt.show()"
   ]
  },
  {
   "cell_type": "code",
   "execution_count": 9,
   "metadata": {},
   "outputs": [
    {
     "data": {
      "image/png": "[encoded data removed]",
      "text/plain": [
       "<Figure size 432x288 with 1 Axes>"
      ]
     },
     "metadata": {
      "needs_background": "light"
     },
     "output_type": "display_data"
    }
   ],
   "source": [
    "data.boxplot(column='Data_Value')\n",
    "plt.show()"
   ]
  },
  {
   "cell_type": "code",
   "execution_count": 10,
   "metadata": {},
   "outputs": [
    {
     "data": {
      "image/png": "[encoded data removed]",
      "text/plain": [
       "<Figure size 432x288 with 1 Axes>"
      ]
     },
     "metadata": {
      "needs_background": "light"
     },
     "output_type": "display_data"
    }
   ],
   "source": [
    "data.boxplot(column='Data_Value_Alt')\n",
    "plt.show()"
   ]
  },
  {
   "cell_type": "code",
   "execution_count": 11,
   "metadata": {},
   "outputs": [
    {
     "data": {
      "image/png": "[encoded data removed]",
      "text/plain": [
       "<Figure size 432x288 with 1 Axes>"
      ]
     },
     "metadata": {
      "needs_background": "light"
     },
     "output_type": "display_data"
    }
   ],
   "source": [
    "data.boxplot(column='LocationID')\n",
    "plt.show()"
   ]
  },
  {
   "cell_type": "code",
   "execution_count": 12,
   "metadata": {},
   "outputs": [
    {
     "data": {
      "image/png": "[encoded data removed]",
      "text/plain": [
       "<Figure size 432x288 with 1 Axes>"
      ]
     },
     "metadata": {
      "needs_background": "light"
     },
     "output_type": "display_data"
    }
   ],
   "source": [
    "data.hist(column='YearStart')\n",
    "plt.show()"
   ]
  },
  {
   "cell_type": "code",
   "execution_count": 13,
   "metadata": {},
   "outputs": [
    {
     "data": {
      "image/png": "[encoded data removed]",
      "text/plain": [
       "<Figure size 432x288 with 1 Axes>"
      ]
     },
     "metadata": {
      "needs_background": "light"
     },
     "output_type": "display_data"
    }
   ],
   "source": [
    "data.hist(column='YearEnd')\n",
    "plt.show()"
   ]
  },
  {
   "cell_type": "code",
   "execution_count": 14,
   "metadata": {},
   "outputs": [
    {
     "data": {
      "image/png": "[encoded data removed]",
      "text/plain": [
       "<Figure size 432x288 with 1 Axes>"
      ]
     },
     "metadata": {
      "needs_background": "light"
     },
     "output_type": "display_data"
    }
   ],
   "source": [
    "data.hist(column='Data_Value')\n",
    "plt.show()"
   ]
  },
  {
   "cell_type": "code",
   "execution_count": 15,
   "metadata": {},
   "outputs": [
    {
     "data": {
      "image/png": "[encoded data removed]",
      "text/plain": [
       "<Figure size 432x288 with 1 Axes>"
      ]
     },
     "metadata": {
      "needs_background": "light"
     },
     "output_type": "display_data"
    }
   ],
   "source": [
    "data.hist(column='Data_Value_Alt')\n",
    "plt.show()"
   ]
  },
  {
   "cell_type": "code",
   "execution_count": 16,
   "metadata": {},
   "outputs": [
    {
     "data": {
      "image/png": "[encoded data removed]",
      "text/plain": [
       "<Figure size 432x288 with 1 Axes>"
      ]
     },
     "metadata": {
      "needs_background": "light"
     },
     "output_type": "display_data"
    }
   ],
   "source": [
    "data.hist(column='LocationID')\n",
    "plt.show()"
   ]
  },
  {
   "cell_type": "markdown",
   "metadata": {},
   "source": [
    "### 数据缺失的处理"
   ]
  },
  {
   "cell_type": "markdown",
   "metadata": {},
   "source": [
    "#### 删除列"
   ]
  },
  {
   "cell_type": "code",
   "execution_count": 17,
   "metadata": {},
   "outputs": [
    {
     "data": {
      "text/plain": [
       "69833"
      ]
     },
     "execution_count": 17,
     "metadata": {},
     "output_type": "execute_result"
    }
   ],
   "source": [
    "# Data_Value属性缺失值数量\n",
    "data['Data_Value'].isnull().sum()"
   ]
  },
  {
   "cell_type": "code",
   "execution_count": 18,
   "metadata": {},
   "outputs": [
    {
     "data": {
      "text/plain": [
       "(214462, 29)"
      ]
     },
     "execution_count": 18,
     "metadata": {},
     "output_type": "execute_result"
    }
   ],
   "source": [
    "data.shape"
   ]
  },
  {
   "cell_type": "code",
   "execution_count": 19,
   "metadata": {},
   "outputs": [],
   "source": [
    "del data['Data_Value']"
   ]
  },
  {
   "cell_type": "code",
   "execution_count": 20,
   "metadata": {},
   "outputs": [
    {
     "data": {
      "text/plain": [
       "(214462, 28)"
      ]
     },
     "execution_count": 20,
     "metadata": {},
     "output_type": "execute_result"
    }
   ],
   "source": [
    "data.shape"
   ]
  },
  {
   "cell_type": "markdown",
   "metadata": {},
   "source": [
    "#### 用最高频率值来填补缺失值"
   ]
  },
  {
   "cell_type": "code",
   "execution_count": 21,
   "metadata": {},
   "outputs": [
    {
     "data": {
      "text/plain": [
       "0         23.9\n",
       "1         21.2\n",
       "2         32.5\n",
       "3          4.0\n",
       "4         12.1\n",
       "          ... \n",
       "214457     NaN\n",
       "214458     NaN\n",
       "214459     NaN\n",
       "214460     8.6\n",
       "214461     NaN\n",
       "Name: Low_Confidence_Limit, Length: 214462, dtype: object"
      ]
     },
     "execution_count": 21,
     "metadata": {},
     "output_type": "execute_result"
    }
   ],
   "source": [
    "data['Low_Confidence_Limit']"
   ]
  },
  {
   "cell_type": "code",
   "execution_count": 22,
   "metadata": {},
   "outputs": [],
   "source": [
    "mode = data['Low_Confidence_Limit'].value_counts().index[0]"
   ]
  },
  {
   "cell_type": "code",
   "execution_count": 23,
   "metadata": {},
   "outputs": [],
   "source": [
    "data['Low_Confidence_Limit'].fillna(mode, inplace=True)"
   ]
  },
  {
   "cell_type": "code",
   "execution_count": 24,
   "metadata": {},
   "outputs": [
    {
     "data": {
      "text/plain": [
       "0         23.9\n",
       "1         21.2\n",
       "2         32.5\n",
       "3          4.0\n",
       "4         12.1\n",
       "          ... \n",
       "214457     5.4\n",
       "214458     5.4\n",
       "214459     5.4\n",
       "214460     8.6\n",
       "214461     5.4\n",
       "Name: Low_Confidence_Limit, Length: 214462, dtype: object"
      ]
     },
     "execution_count": 24,
     "metadata": {},
     "output_type": "execute_result"
    }
   ],
   "source": [
    "data['Low_Confidence_Limit']"
   ]
  },
  {
   "cell_type": "markdown",
   "metadata": {},
   "source": [
    "#### 使用平均数来填补缺失值"
   ]
  },
  {
   "cell_type": "code",
   "execution_count": 25,
   "metadata": {},
   "outputs": [
    {
     "data": {
      "text/plain": [
       "0         26.3\n",
       "1         24.0\n",
       "2         35.7\n",
       "3          4.8\n",
       "4         13.7\n",
       "          ... \n",
       "214457     NaN\n",
       "214458     NaN\n",
       "214459     NaN\n",
       "214460    10.6\n",
       "214461     NaN\n",
       "Name: Data_Value_Alt, Length: 214462, dtype: float64"
      ]
     },
     "execution_count": 25,
     "metadata": {},
     "output_type": "execute_result"
    }
   ],
   "source": [
    "data['Data_Value_Alt']"
   ]
  },
  {
   "cell_type": "code",
   "execution_count": 26,
   "metadata": {},
   "outputs": [],
   "source": [
    "data['Data_Value_Alt'].fillna(data['Data_Value_Alt'].mean(), inplace=True)"
   ]
  },
  {
   "cell_type": "code",
   "execution_count": 27,
   "metadata": {},
   "outputs": [
    {
     "data": {
      "text/plain": [
       "0         26.300000\n",
       "1         24.000000\n",
       "2         35.700000\n",
       "3          4.800000\n",
       "4         13.700000\n",
       "            ...    \n",
       "214457    37.341956\n",
       "214458    37.341956\n",
       "214459    37.341956\n",
       "214460    10.600000\n",
       "214461    37.341956\n",
       "Name: Data_Value_Alt, Length: 214462, dtype: float64"
      ]
     },
     "execution_count": 27,
     "metadata": {},
     "output_type": "execute_result"
    }
   ],
   "source": [
    "data['Data_Value_Alt']"
   ]
  },
  {
   "cell_type": "markdown",
   "metadata": {},
   "source": [
    "#### 使用前值或者后值来填充"
   ]
  },
  {
   "cell_type": "code",
   "execution_count": 28,
   "metadata": {},
   "outputs": [
    {
     "data": {
      "text/plain": [
       "0         POINT (-157.8577494 21.30485044)\n",
       "1           POINT (-114.36373 43.68263001)\n",
       "2           POINT (-114.36373 43.68263001)\n",
       "3           POINT (-114.36373 43.68263001)\n",
       "4         POINT (-86.14996019 39.76691045)\n",
       "                        ...               \n",
       "214457    POINT (-108.1098304 43.23554134)\n",
       "214458    POINT (-108.1098304 43.23554134)\n",
       "214459    POINT (-108.1098304 43.23554134)\n",
       "214460    POINT (-108.1098304 43.23554134)\n",
       "214461    POINT (-108.1098304 43.23554134)\n",
       "Name: Geolocation, Length: 214462, dtype: object"
      ]
     },
     "execution_count": 28,
     "metadata": {},
     "output_type": "execute_result"
    }
   ],
   "source": [
    "data['Geolocation']"
   ]
  },
  {
   "cell_type": "code",
   "execution_count": 29,
   "metadata": {},
   "outputs": [
    {
     "data": {
      "text/plain": [
       "23049"
      ]
     },
     "execution_count": 29,
     "metadata": {},
     "output_type": "execute_result"
    }
   ],
   "source": [
    "data['Geolocation'].isnull().sum()"
   ]
  },
  {
   "cell_type": "code",
   "execution_count": 30,
   "metadata": {},
   "outputs": [],
   "source": [
    "# 前值填充\n",
    "data['Geolocation'].fillna(method='pad', inplace=True)"
   ]
  },
  {
   "cell_type": "code",
   "execution_count": 31,
   "metadata": {},
   "outputs": [
    {
     "data": {
      "text/plain": [
       "0"
      ]
     },
     "execution_count": 31,
     "metadata": {},
     "output_type": "execute_result"
    }
   ],
   "source": [
    "data['Geolocation'].isnull().sum()"
   ]
  },
  {
   "cell_type": "code",
   "execution_count": null,
   "metadata": {},
   "outputs": [],
   "source": []
  }
 ],
 "metadata": {
  "kernelspec": {
   "display_name": "Python 3 (ipykernel)",
   "language": "python",
   "name": "python3"
  },
  "language_info": {
   "codemirror_mode": {
    "name": "ipython",
    "version": 3
   },
   "file_extension": ".py",
   "mimetype": "text/x-python",
   "name": "python",
   "nbconvert_exporter": "python",
   "pygments_lexer": "ipython3",
   "version": "3.11.5"
  }
 },
 "nbformat": 4,
 "nbformat_minor": 2
}
